{
 "cells": [
  {
   "cell_type": "code",
   "execution_count": 2,
   "id": "5b202457",
   "metadata": {},
   "outputs": [],
   "source": [
    "import seaborn as sns\n",
    "import matplotlib.pyplot as plt\n",
    "import numpy as np\n",
    "import pandas as pd\n"
   ]
  },
  {
   "cell_type": "code",
   "execution_count": 57,
   "id": "187b097b",
   "metadata": {},
   "outputs": [
    {
     "data": {
      "text/plain": [
       "0.07980972515856237"
      ]
     },
     "execution_count": 57,
     "metadata": {},
     "output_type": "execute_result"
    }
   ],
   "source": [
    "302/3784"
   ]
  },
  {
   "cell_type": "code",
   "execution_count": 3,
   "id": "64e7b334",
   "metadata": {},
   "outputs": [],
   "source": [
    "import pandas as pd\n",
    "\n",
    "data = pd.read_excel(\"C:/Users/pc/Desktop/Project_PFE_2024/ANALYSE_FACTORIEL_AFC/data.xlsx\" ,index_col=0)\n"
   ]
  },
  {
   "cell_type": "code",
   "execution_count": 4,
   "id": "ba78c0b4",
   "metadata": {},
   "outputs": [
    {
     "data": {
      "text/html": [
       "<div>\n",
       "<style scoped>\n",
       "    .dataframe tbody tr th:only-of-type {\n",
       "        vertical-align: middle;\n",
       "    }\n",
       "\n",
       "    .dataframe tbody tr th {\n",
       "        vertical-align: top;\n",
       "    }\n",
       "\n",
       "    .dataframe thead th {\n",
       "        text-align: right;\n",
       "    }\n",
       "</style>\n",
       "<table border=\"1\" class=\"dataframe\">\n",
       "  <thead>\n",
       "    <tr style=\"text-align: right;\">\n",
       "      <th></th>\n",
       "      <th>Droit</th>\n",
       "      <th>Sciences</th>\n",
       "      <th>Médecine</th>\n",
       "      <th>IUT</th>\n",
       "    </tr>\n",
       "  </thead>\n",
       "  <tbody>\n",
       "    <tr>\n",
       "      <th>Exp.agri</th>\n",
       "      <td>80</td>\n",
       "      <td>99</td>\n",
       "      <td>65</td>\n",
       "      <td>58</td>\n",
       "    </tr>\n",
       "    <tr>\n",
       "      <th>Patron</th>\n",
       "      <td>168</td>\n",
       "      <td>137</td>\n",
       "      <td>208</td>\n",
       "      <td>62</td>\n",
       "    </tr>\n",
       "    <tr>\n",
       "      <th>Cadre.sup</th>\n",
       "      <td>470</td>\n",
       "      <td>400</td>\n",
       "      <td>876</td>\n",
       "      <td>79</td>\n",
       "    </tr>\n",
       "    <tr>\n",
       "      <th>Employé</th>\n",
       "      <td>145</td>\n",
       "      <td>133</td>\n",
       "      <td>135</td>\n",
       "      <td>54</td>\n",
       "    </tr>\n",
       "    <tr>\n",
       "      <th>Ouvrier</th>\n",
       "      <td>166</td>\n",
       "      <td>193</td>\n",
       "      <td>127</td>\n",
       "      <td>129</td>\n",
       "    </tr>\n",
       "  </tbody>\n",
       "</table>\n",
       "</div>"
      ],
      "text/plain": [
       "           Droit  Sciences  Médecine  IUT\n",
       "Exp.agri      80        99        65   58\n",
       "Patron       168       137       208   62\n",
       "Cadre.sup    470       400       876   79\n",
       "Employé      145       133       135   54\n",
       "Ouvrier      166       193       127  129"
      ]
     },
     "execution_count": 4,
     "metadata": {},
     "output_type": "execute_result"
    }
   ],
   "source": [
    "data"
   ]
  },
  {
   "cell_type": "code",
   "execution_count": 5,
   "id": "df5d5428",
   "metadata": {},
   "outputs": [
    {
     "data": {
      "text/plain": [
       "array([[ 80,  99,  65,  58],\n",
       "       [168, 137, 208,  62],\n",
       "       [470, 400, 876,  79],\n",
       "       [145, 133, 135,  54],\n",
       "       [166, 193, 127, 129]], dtype=int64)"
      ]
     },
     "execution_count": 5,
     "metadata": {},
     "output_type": "execute_result"
    }
   ],
   "source": [
    "data.values"
   ]
  },
  {
   "cell_type": "code",
   "execution_count": 6,
   "id": "065be130",
   "metadata": {},
   "outputs": [
    {
     "name": "stdout",
     "output_type": "stream",
     "text": [
      "[ 302  575 1825  467  615]\n"
     ]
    }
   ],
   "source": [
    "#totaux : total general , total de chaque ligne , total de chaue colonne\n",
    "# calculons des totaux en lignes\n",
    "data_numeric = data.apply(pd.to_numeric, errors='coerce')\n",
    "total_lignes = np.sum(data_numeric.values, axis=1)\n",
    "print(total_lignes)"
   ]
  },
  {
   "cell_type": "code",
   "execution_count": 7,
   "id": "c99e0102",
   "metadata": {},
   "outputs": [
    {
     "name": "stdout",
     "output_type": "stream",
     "text": [
      "[1029  962 1411  382]\n"
     ]
    }
   ],
   "source": [
    "# calculons des totaux en colonnes\n",
    "data_numeric = data.apply(pd.to_numeric, errors='coerce')\n",
    "total_colonnes = np.sum(data_numeric.values, axis=0)\n",
    "print(total_colonnes)"
   ]
  },
  {
   "cell_type": "markdown",
   "id": "ad971360",
   "metadata": {},
   "source": [
    "# Analyse des profils lignes"
   ]
  },
  {
   "cell_type": "markdown",
   "id": "1e8b1276",
   "metadata": {},
   "source": [
    "# Profils lignes"
   ]
  },
  {
   "cell_type": "code",
   "execution_count": 8,
   "id": "98aff2fa",
   "metadata": {},
   "outputs": [
    {
     "name": "stdout",
     "output_type": "stream",
     "text": [
      "[[0.26490066 0.32781457 0.21523179 0.19205298]\n",
      " [0.29217391 0.23826087 0.36173913 0.10782609]\n",
      " [0.25753425 0.21917808 0.48       0.04328767]\n",
      " [0.31049251 0.28479657 0.28907923 0.11563169]\n",
      " [0.2699187  0.31382114 0.20650407 0.2097561 ]]\n"
     ]
    }
   ],
   "source": [
    "#profils lignes\n",
    "prof_lig = np.apply_along_axis(func1d=lambda x: x/np.sum(x), axis=1, arr=data.values)\n",
    "print(prof_lig)"
   ]
  },
  {
   "cell_type": "code",
   "execution_count": 9,
   "id": "3be3e5f4",
   "metadata": {},
   "outputs": [
    {
     "data": {
      "text/html": [
       "<div>\n",
       "<style scoped>\n",
       "    .dataframe tbody tr th:only-of-type {\n",
       "        vertical-align: middle;\n",
       "    }\n",
       "\n",
       "    .dataframe tbody tr th {\n",
       "        vertical-align: top;\n",
       "    }\n",
       "\n",
       "    .dataframe thead th {\n",
       "        text-align: right;\n",
       "    }\n",
       "</style>\n",
       "<table border=\"1\" class=\"dataframe\">\n",
       "  <thead>\n",
       "    <tr style=\"text-align: right;\">\n",
       "      <th></th>\n",
       "      <th>Droit</th>\n",
       "      <th>Sciences</th>\n",
       "      <th>Médecine</th>\n",
       "      <th>IUT</th>\n",
       "    </tr>\n",
       "  </thead>\n",
       "  <tbody>\n",
       "    <tr>\n",
       "      <th>Exp.agri</th>\n",
       "      <td>0.26</td>\n",
       "      <td>0.33</td>\n",
       "      <td>0.22</td>\n",
       "      <td>0.19</td>\n",
       "    </tr>\n",
       "    <tr>\n",
       "      <th>Patron</th>\n",
       "      <td>0.29</td>\n",
       "      <td>0.24</td>\n",
       "      <td>0.36</td>\n",
       "      <td>0.11</td>\n",
       "    </tr>\n",
       "    <tr>\n",
       "      <th>Cadre.sup</th>\n",
       "      <td>0.26</td>\n",
       "      <td>0.22</td>\n",
       "      <td>0.48</td>\n",
       "      <td>0.04</td>\n",
       "    </tr>\n",
       "    <tr>\n",
       "      <th>Employé</th>\n",
       "      <td>0.31</td>\n",
       "      <td>0.28</td>\n",
       "      <td>0.29</td>\n",
       "      <td>0.12</td>\n",
       "    </tr>\n",
       "    <tr>\n",
       "      <th>Ouvrier</th>\n",
       "      <td>0.27</td>\n",
       "      <td>0.31</td>\n",
       "      <td>0.21</td>\n",
       "      <td>0.21</td>\n",
       "    </tr>\n",
       "  </tbody>\n",
       "</table>\n",
       "</div>"
      ],
      "text/plain": [
       "           Droit  Sciences  Médecine   IUT\n",
       "Exp.agri    0.26      0.33      0.22  0.19\n",
       "Patron      0.29      0.24      0.36  0.11\n",
       "Cadre.sup   0.26      0.22      0.48  0.04\n",
       "Employé     0.31      0.28      0.29  0.12\n",
       "Ouvrier     0.27      0.31      0.21  0.21"
      ]
     },
     "execution_count": 9,
     "metadata": {},
     "output_type": "execute_result"
    }
   ],
   "source": [
    "pd.DataFrame(np.round(prof_lig,2) , index=data.index , columns=data.columns)"
   ]
  },
  {
   "cell_type": "code",
   "execution_count": 10,
   "id": "7a42e37a",
   "metadata": {},
   "outputs": [
    {
     "data": {
      "text/plain": [
       "3784"
      ]
     },
     "execution_count": 10,
     "metadata": {},
     "output_type": "execute_result"
    }
   ],
   "source": [
    "total = np.sum(data.values)\n",
    "total"
   ]
  },
  {
   "cell_type": "code",
   "execution_count": 11,
   "id": "984eed31",
   "metadata": {},
   "outputs": [
    {
     "name": "stdout",
     "output_type": "stream",
     "text": [
      "[0.27193446 0.25422833 0.37288584 0.10095137]\n"
     ]
    }
   ],
   "source": [
    "#calcul du profil marginal correp.\n",
    "prof_marg_lig = total_colonnes/total\n",
    "print(prof_marg_lig)"
   ]
  },
  {
   "cell_type": "code",
   "execution_count": 12,
   "id": "cca142e4",
   "metadata": {},
   "outputs": [
    {
     "data": {
      "text/plain": [
       "array([1029,  962, 1411,  382], dtype=int64)"
      ]
     },
     "execution_count": 12,
     "metadata": {},
     "output_type": "execute_result"
    }
   ],
   "source": [
    "total_colonnes"
   ]
  },
  {
   "cell_type": "code",
   "execution_count": 16,
   "id": "fbe5a8ac",
   "metadata": {},
   "outputs": [
    {
     "name": "stdout",
     "output_type": "stream",
     "text": [
      "[0.07980973 0.1519556  0.48229387 0.12341438 0.16252643]\n"
     ]
    }
   ],
   "source": [
    "#calcul du profil marginal correp.\n",
    "prof_marg_col = total_lignes/total\n",
    "print(prof_marg_col)"
   ]
  },
  {
   "cell_type": "code",
   "execution_count": 17,
   "id": "dcb77858",
   "metadata": {},
   "outputs": [
    {
     "name": "stdout",
     "output_type": "stream",
     "text": [
      "           Exp.agri    Patron  Cadre.sup   Employé   Ouvrier\n",
      "Exp.agri   0.000000  0.137247   0.382774  0.055980  0.002245\n",
      "Patron     0.137247  0.000000   0.072499  0.028836  0.149640\n",
      "Cadre.sup  0.382774  0.072499   0.000000  0.179436  0.410476\n",
      "Employé    0.055980  0.028836   0.179436  0.000000  0.066806\n",
      "Ouvrier    0.002245  0.149640   0.410476  0.066806  0.000000\n"
     ]
    }
   ],
   "source": [
    "#\n",
    "distPaireslig = np.zeros((prof_lig.shape[0], prof_lig.shape[0]))\n",
    "\n",
    "for i in range(prof_lig.shape[0]-1):\n",
    "    for j in range(i+1, prof_lig.shape[0]):\n",
    "        distPaireslig[i, j] = np.sum((prof_lig[i, :] - prof_lig[j, :]) ** 2) / prof_marg_lig[0]\n",
    "        distPaireslig[j, i] = distPaireslig[i, j]\n",
    "# Affichage\n",
    "print(pd.DataFrame(distPaireslig, index=data.index , columns=data.index))\n"
   ]
  },
  {
   "cell_type": "code",
   "execution_count": 18,
   "id": "ddd2eda5",
   "metadata": {},
   "outputs": [
    {
     "data": {
      "image/png": "[encoded data removed]",
      "text/plain": [
       "<Figure size 500x300 with 2 Axes>"
      ]
     },
     "metadata": {},
     "output_type": "display_data"
    }
   ],
   "source": [
    "\n",
    "\n",
    "#Disntance ( au carre) entre les paires de modalities lignes-donnees \"CSP Filere\"\n",
    "# Affichage sous forme de heatmap avec seaborn\n",
    "plt.figure(figsize=(5, 3))\n",
    "sns.heatmap(distPaireslig, \n",
    "            vmin=0, \n",
    "            vmax=np.max(distPaireslig), \n",
    "            linewidth=0.1, \n",
    "            cmap='Blues', \n",
    "            xticklabels=data.index, \n",
    "            yticklabels=data.index)\n",
    "plt.title('Disntance ( au carre) entre les paires de modalities lignes-donnees \"CSP Filere\"')\n",
    "plt.xlabel('Index')\n",
    "plt.ylabel('Index')\n",
    "plt.show()\n"
   ]
  },
  {
   "cell_type": "code",
   "execution_count": 19,
   "id": "50baf543",
   "metadata": {},
   "outputs": [
    {
     "name": "stdout",
     "output_type": "stream",
     "text": [
      "           Exp.agri    Patron  Cadre.sup   Employé   Ouvrier\n",
      "Exp.agri        0.0  0.137247   0.382774  0.055980  0.002245\n",
      "Patron          0.0  0.000000   0.072499  0.028836  0.149640\n",
      "Cadre.sup       0.0  0.000000   0.000000  0.179436  0.410476\n",
      "Employé         0.0  0.000000   0.000000  0.000000  0.066806\n",
      "Ouvrier         0.0  0.000000   0.000000  0.000000  0.000000\n"
     ]
    }
   ],
   "source": [
    "import numpy as np\n",
    "\n",
    "distPaireslig = np.zeros((prof_lig.shape[0], prof_lig.shape[0]))\n",
    "\n",
    "for i in range(prof_lig.shape[0]-1):\n",
    "    for j in range(i+1, prof_lig.shape[0]):\n",
    "        distPaireslig[i, j] = np.sum((prof_lig[i, :] - prof_lig[j, :]) ** 2) / prof_marg_lig[0]\n",
    "       # distPaireslig[j, i] = distPaireslig[i, j]\n",
    "# Affichage\n",
    "print(pd.DataFrame(distPaireslig, index=data.index , columns=data.index))\n"
   ]
  },
  {
   "cell_type": "code",
   "execution_count": 20,
   "id": "c68dd9df",
   "metadata": {},
   "outputs": [
    {
     "data": {
      "image/png": "[encoded data removed]",
      "text/plain": [
       "<Figure size 500x300 with 2 Axes>"
      ]
     },
     "metadata": {},
     "output_type": "display_data"
    }
   ],
   "source": [
    "# Votre code pour calculer distPaireslig ici\n",
    "\n",
    "#Disntance ( au carre) entre les paires de modalities lignes-donnees \"CSP Filere\"\n",
    "# Affichage sous forme de heatmap avec seaborn\n",
    "plt.figure(figsize=(5, 3))\n",
    "sns.heatmap(distPaireslig, \n",
    "            vmin=0, \n",
    "            vmax=np.max(distPaireslig), \n",
    "            linewidth=0.1, \n",
    "            cmap='Blues', \n",
    "            xticklabels=data.index, \n",
    "            yticklabels=data.index)\n",
    "plt.title('Disntance ( au carre) entre les paires de modalities lignes-donnees \"CSP Filere\"')\n",
    "plt.xlabel('Index')\n",
    "plt.ylabel('Index')\n",
    "plt.show()"
   ]
  },
  {
   "cell_type": "code",
   "execution_count": 21,
   "id": "73044394",
   "metadata": {},
   "outputs": [
    {
     "name": "stdout",
     "output_type": "stream",
     "text": [
      "                  0\n",
      "Exp.agri   0.170350\n",
      "Patron     0.003311\n",
      "Cadre.sup  0.069302\n",
      "Employé    0.030113\n",
      "Ouvrier    0.205492\n"
     ]
    }
   ],
   "source": [
    "#distance a l'origine\n",
    "distolig = np.apply_along_axis(arr=prof_lig , axis=1 , func1d=lambda x:np.sum((x-prof_marg_lig)**2/prof_marg_lig))\n",
    "\n",
    "\n",
    "# Affichage\n",
    "print(pd.DataFrame(distolig, index=data.index))"
   ]
  },
  {
   "cell_type": "code",
   "execution_count": 22,
   "id": "8ba0dcb2",
   "metadata": {},
   "outputs": [
    {
     "data": {
      "text/plain": [
       "array([0.17034955, 0.00331062, 0.0693019 , 0.03011317, 0.2054925 ])"
      ]
     },
     "execution_count": 22,
     "metadata": {},
     "output_type": "execute_result"
    }
   ],
   "source": [
    "distolig"
   ]
  },
  {
   "cell_type": "code",
   "execution_count": 23,
   "id": "d490e1a9",
   "metadata": {},
   "outputs": [
    {
     "name": "stdout",
     "output_type": "stream",
     "text": [
      "             Disto2     Poids   Inertie\n",
      "Exp.agri   0.170350  0.079810  0.013596\n",
      "Patron     0.003311  0.151956  0.000503\n",
      "Cadre.sup  0.069302  0.482294  0.033424\n",
      "Employé    0.030113  0.123414  0.003716\n",
      "Ouvrier    0.205492  0.162526  0.033398\n"
     ]
    }
   ],
   "source": [
    "# poids des lignes\n",
    "poidslig = total_lignes / np.sum(total_lignes)\n",
    "\n",
    "# inertie des lignes \n",
    "inertielig = distolig * poidslig\n",
    "\n",
    "# Affichage \n",
    "print(pd.DataFrame(np.transpose([distolig, poidslig ,inertielig]), index=data.index,columns=['Disto2', 'Poids','Inertie']))\n"
   ]
  },
  {
   "cell_type": "code",
   "execution_count": 24,
   "id": "7cebedba",
   "metadata": {},
   "outputs": [
    {
     "data": {
      "text/plain": [
       "array([0.07980973, 0.1519556 , 0.48229387, 0.12341438, 0.16252643])"
      ]
     },
     "execution_count": 24,
     "metadata": {},
     "output_type": "execute_result"
    }
   ],
   "source": [
    "poidslig"
   ]
  },
  {
   "cell_type": "code",
   "execution_count": 131,
   "id": "28c084fa",
   "metadata": {},
   "outputs": [
    {
     "name": "stdout",
     "output_type": "stream",
     "text": [
      "0.08463685828547157\n"
     ]
    }
   ],
   "source": [
    "#total inertuie\n",
    "total_inertielig = np.sum(inertielig)\n",
    "print(total_inertielig)"
   ]
  },
  {
   "cell_type": "code",
   "execution_count": 132,
   "id": "93634bf6",
   "metadata": {},
   "outputs": [
    {
     "data": {
      "text/html": [
       "<div>\n",
       "<style scoped>\n",
       "    .dataframe tbody tr th:only-of-type {\n",
       "        vertical-align: middle;\n",
       "    }\n",
       "\n",
       "    .dataframe tbody tr th {\n",
       "        vertical-align: top;\n",
       "    }\n",
       "\n",
       "    .dataframe thead th {\n",
       "        text-align: right;\n",
       "    }\n",
       "</style>\n",
       "<table border=\"1\" class=\"dataframe\">\n",
       "  <thead>\n",
       "    <tr style=\"text-align: right;\">\n",
       "      <th></th>\n",
       "      <th>Droit</th>\n",
       "      <th>Sciences</th>\n",
       "      <th>Médecine</th>\n",
       "      <th>IUT</th>\n",
       "    </tr>\n",
       "  </thead>\n",
       "  <tbody>\n",
       "    <tr>\n",
       "      <th>Exp.agri</th>\n",
       "      <td>80</td>\n",
       "      <td>99</td>\n",
       "      <td>65</td>\n",
       "      <td>58</td>\n",
       "    </tr>\n",
       "    <tr>\n",
       "      <th>Patron</th>\n",
       "      <td>168</td>\n",
       "      <td>137</td>\n",
       "      <td>208</td>\n",
       "      <td>62</td>\n",
       "    </tr>\n",
       "    <tr>\n",
       "      <th>Cadre.sup</th>\n",
       "      <td>470</td>\n",
       "      <td>400</td>\n",
       "      <td>876</td>\n",
       "      <td>79</td>\n",
       "    </tr>\n",
       "    <tr>\n",
       "      <th>Employé</th>\n",
       "      <td>145</td>\n",
       "      <td>133</td>\n",
       "      <td>135</td>\n",
       "      <td>54</td>\n",
       "    </tr>\n",
       "    <tr>\n",
       "      <th>Ouvrier</th>\n",
       "      <td>166</td>\n",
       "      <td>193</td>\n",
       "      <td>127</td>\n",
       "      <td>129</td>\n",
       "    </tr>\n",
       "  </tbody>\n",
       "</table>\n",
       "</div>"
      ],
      "text/plain": [
       "           Droit  Sciences  Médecine  IUT\n",
       "Exp.agri      80        99        65   58\n",
       "Patron       168       137       208   62\n",
       "Cadre.sup    470       400       876   79\n",
       "Employé      145       133       135   54\n",
       "Ouvrier      166       193       127  129"
      ]
     },
     "execution_count": 132,
     "metadata": {},
     "output_type": "execute_result"
    }
   ],
   "source": [
    "data"
   ]
  },
  {
   "cell_type": "code",
   "execution_count": 41,
   "id": "68edfd72",
   "metadata": {},
   "outputs": [
    {
     "name": "stdout",
     "output_type": "stream",
     "text": [
      "[[8.23936026e-02 1.70344867e-03 5.39807038e-04]\n",
      " [9.73495522e+01 2.01265584e+00 6.37791913e-01]\n",
      " [9.73495522e+01 9.93622081e+01 1.00000000e+02]]\n"
     ]
    }
   ],
   "source": [
    "# Importation de la librairie\n",
    "from fanalysis.ca import CA\n",
    "\n",
    "# Lancer les calculs\n",
    "afc = CA(row_labels=data.index, col_labels=data.columns)\n",
    "afc.fit(data.values)\n",
    "\n",
    "# Informations restituées sur les facteurs\n",
    "print(afc.eig_)\n"
   ]
  },
  {
   "cell_type": "code",
   "execution_count": 137,
   "id": "d52def1b",
   "metadata": {},
   "outputs": [
    {
     "name": "stdout",
     "output_type": "stream",
     "text": [
      "                  0         1         2\n",
      "Exp.agri   0.410115 -0.026253  0.038284\n",
      "Patron     0.020151  0.026585 -0.046881\n",
      "Cadre.sup -0.262717 -0.015596  0.006199\n",
      "Employé    0.142090  0.097326  0.021242\n",
      "Ouvrier    0.451481 -0.039588 -0.009493\n"
     ]
    }
   ],
   "source": [
    "#coordonnes des modalites lignes \n",
    "print(pd.DataFrame(afc.row_coord_,index = data.index))"
   ]
  },
  {
   "cell_type": "code",
   "execution_count": 138,
   "id": "74b19fdf",
   "metadata": {},
   "outputs": [
    {
     "name": "stdout",
     "output_type": "stream",
     "text": [
      "6.938893903907228e-17\n"
     ]
    }
   ],
   "source": [
    "#verification de la moyenne ponderee des modalites -1er facteur\n",
    "print(np.sum(poidslig*afc.row_coord_[:,0]))"
   ]
  },
  {
   "cell_type": "code",
   "execution_count": 139,
   "id": "52b985c8",
   "metadata": {},
   "outputs": [
    {
     "name": "stdout",
     "output_type": "stream",
     "text": [
      "0.0823936025778933\n"
     ]
    }
   ],
   "source": [
    "#variance des modalites -1er facteur \n",
    "print(np.sum(poidslig * afc.row_coord_[:,0]**2))"
   ]
  },
  {
   "cell_type": "code",
   "execution_count": 147,
   "id": "37ffd14a",
   "metadata": {},
   "outputs": [
    {
     "data": {
      "image/png": "[encoded data removed]",
      "text/plain": [
       "<Figure size 1000x1000 with 1 Axes>"
      ]
     },
     "metadata": {},
     "output_type": "display_data"
    }
   ],
   "source": [
    "#affichage dans le plan factoriel \n",
    "fig, ax = plt.subplots(figsize=(10,10))\n",
    "ax.axis([-0.5,+0.5,-0.5,+0.5])\n",
    "ax.plot([-0.5,+0.5],[0,0],color='silver',linestyle='--')\n",
    "ax.plot([0,0],[-0.5,+0.5],color='silver',linestyle='--')\n",
    "ax.set_xlabel(\"Dim1\")\n",
    "ax.set_ylabel(\"Dim2\")\n",
    "plt.title(\"position des modalites lignes dans le plan -AFC - Donnees\")\n",
    "\n",
    "\n",
    "for i in range(data.shape[0]):\n",
    "    ax.text(afc.row_coord_[i,0],afc.row_coord_[i,1],data.index[i])\n",
    "plt.show()"
   ]
  },
  {
   "cell_type": "code",
   "execution_count": 149,
   "id": "2c2c5441",
   "metadata": {},
   "outputs": [
    {
     "name": "stdout",
     "output_type": "stream",
     "text": [
      "           Exp.agri    Patron  Cadre.sup   Employé   Ouvrier\n",
      "Exp.agri   0.000000  0.393528   0.672917  0.295143  0.043462\n",
      "Patron     0.393528  0.000000   0.285996  0.140973  0.436377\n",
      "Cadre.sup  0.672917  0.285996   0.000000  0.420262  0.714601\n",
      "Employé    0.295143  0.140973   0.420262  0.000000  0.338331\n",
      "Ouvrier    0.043462  0.436377   0.714601  0.338331  0.000000\n"
     ]
    }
   ],
   "source": [
    "import numpy as np\n",
    "import pandas as pd\n",
    "\n",
    "# Calcul des distances euclidiennes dans le 1er plan\n",
    "distPairesLigF1 = np.zeros(shape=(data.shape[0], data.shape[0]))\n",
    "\n",
    "for i in range(data.shape[0]-1):\n",
    "    for j in range(i+1, data.shape[0]):\n",
    "        distPairesLigF1[i,j] = np.sqrt(np.sum((afc.row_coord_[i,:2] - afc.row_coord_[j,:2])**2))\n",
    "        distPairesLigF1[j,i] = distPairesLigF1[i,j]  # Distance symétrique\n",
    "\n",
    "# Affichage des distances euclidiennes\n",
    "print(pd.DataFrame(distPairesLigF1, index=data.index, columns=data.index))\n"
   ]
  },
  {
   "cell_type": "markdown",
   "id": "070d728e",
   "metadata": {},
   "source": [
    "# Analyse des pofils colonnes"
   ]
  },
  {
   "cell_type": "code",
   "execution_count": 30,
   "id": "e622a57a",
   "metadata": {},
   "outputs": [
    {
     "name": "stdout",
     "output_type": "stream",
     "text": [
      "[0.07980973 0.1519556  0.48229387 0.12341438 0.16252643]\n"
     ]
    }
   ],
   "source": [
    "#calcul du profil marginal correp.\n",
    "prof_marg_col = total_lignes/total\n",
    "print(prof_marg_col)"
   ]
  },
  {
   "cell_type": "code",
   "execution_count": 31,
   "id": "d2d34610",
   "metadata": {},
   "outputs": [
    {
     "data": {
      "text/html": [
       "<div>\n",
       "<style scoped>\n",
       "    .dataframe tbody tr th:only-of-type {\n",
       "        vertical-align: middle;\n",
       "    }\n",
       "\n",
       "    .dataframe tbody tr th {\n",
       "        vertical-align: top;\n",
       "    }\n",
       "\n",
       "    .dataframe thead th {\n",
       "        text-align: right;\n",
       "    }\n",
       "</style>\n",
       "<table border=\"1\" class=\"dataframe\">\n",
       "  <thead>\n",
       "    <tr style=\"text-align: right;\">\n",
       "      <th></th>\n",
       "      <th>Droit</th>\n",
       "      <th>Sciences</th>\n",
       "      <th>Médecine</th>\n",
       "      <th>IUT</th>\n",
       "    </tr>\n",
       "  </thead>\n",
       "  <tbody>\n",
       "    <tr>\n",
       "      <th>Exp.agri</th>\n",
       "      <td>0.078</td>\n",
       "      <td>0.103</td>\n",
       "      <td>0.046</td>\n",
       "      <td>0.152</td>\n",
       "    </tr>\n",
       "    <tr>\n",
       "      <th>Patron</th>\n",
       "      <td>0.163</td>\n",
       "      <td>0.142</td>\n",
       "      <td>0.147</td>\n",
       "      <td>0.162</td>\n",
       "    </tr>\n",
       "    <tr>\n",
       "      <th>Cadre.sup</th>\n",
       "      <td>0.457</td>\n",
       "      <td>0.416</td>\n",
       "      <td>0.621</td>\n",
       "      <td>0.207</td>\n",
       "    </tr>\n",
       "    <tr>\n",
       "      <th>Employé</th>\n",
       "      <td>0.141</td>\n",
       "      <td>0.138</td>\n",
       "      <td>0.096</td>\n",
       "      <td>0.141</td>\n",
       "    </tr>\n",
       "    <tr>\n",
       "      <th>Ouvrier</th>\n",
       "      <td>0.161</td>\n",
       "      <td>0.201</td>\n",
       "      <td>0.090</td>\n",
       "      <td>0.338</td>\n",
       "    </tr>\n",
       "  </tbody>\n",
       "</table>\n",
       "</div>"
      ],
      "text/plain": [
       "           Droit  Sciences  Médecine    IUT\n",
       "Exp.agri   0.078     0.103     0.046  0.152\n",
       "Patron     0.163     0.142     0.147  0.162\n",
       "Cadre.sup  0.457     0.416     0.621  0.207\n",
       "Employé    0.141     0.138     0.096  0.141\n",
       "Ouvrier    0.161     0.201     0.090  0.338"
      ]
     },
     "execution_count": 31,
     "metadata": {},
     "output_type": "execute_result"
    }
   ],
   "source": [
    "#profils lignes\n",
    "prof_col = np.apply_along_axis(func1d=lambda x: x/np.sum(x), axis=0, arr=data.values)\n",
    "pd.DataFrame(np.round(prof_col,3) , index=data.index , columns=data.columns)"
   ]
  },
  {
   "cell_type": "code",
   "execution_count": 33,
   "id": "59efc8c2",
   "metadata": {},
   "outputs": [
    {
     "name": "stdout",
     "output_type": "stream",
     "text": [
      "                 0\n",
      "Droit     0.004738\n",
      "Sciences  0.027168\n",
      "Médecine  0.092792\n",
      "IUT       0.414466\n"
     ]
    }
   ],
   "source": [
    "#distance a l'origine\n",
    "distocol = np.apply_along_axis(arr=prof_col , axis=0 , func1d=lambda x:np.sum((x-prof_marg_col)**2/prof_marg_col))\n",
    "\n",
    "\n",
    "# Affichage\n",
    "print(pd.DataFrame(distocol, index=data.columns))"
   ]
  },
  {
   "cell_type": "code",
   "execution_count": 35,
   "id": "9af49db2",
   "metadata": {},
   "outputs": [
    {
     "name": "stdout",
     "output_type": "stream",
     "text": [
      "                 0\n",
      "Droit     0.271934\n",
      "Sciences  0.254228\n",
      "Médecine  0.372886\n",
      "IUT       0.100951\n"
     ]
    }
   ],
   "source": [
    "#poids de chaque colonne\n",
    "poidscol = total_colonnes/np.sum(total_colonnes)\n",
    "print(pd.DataFrame(poidscol,index=data.columns))"
   ]
  },
  {
   "cell_type": "code",
   "execution_count": 37,
   "id": "738ec850",
   "metadata": {},
   "outputs": [
    {
     "name": "stdout",
     "output_type": "stream",
     "text": [
      "                 0\n",
      "Droit     0.001288\n",
      "Sciences  0.006907\n",
      "Médecine  0.034601\n",
      "IUT       0.041841\n"
     ]
    }
   ],
   "source": [
    "#intertie \n",
    "inerticol = distocol * poidscol\n",
    "print(pd.DataFrame(inerticol,index=data.columns))"
   ]
  },
  {
   "cell_type": "code",
   "execution_count": 38,
   "id": "85015a4f",
   "metadata": {},
   "outputs": [
    {
     "name": "stdout",
     "output_type": "stream",
     "text": [
      "0.08463685828547156\n"
     ]
    }
   ],
   "source": [
    "#somme des inerties\n",
    "print(np.sum(inerticol))"
   ]
  },
  {
   "cell_type": "code",
   "execution_count": 42,
   "id": "d1991e45",
   "metadata": {},
   "outputs": [
    {
     "name": "stdout",
     "output_type": "stream",
     "text": [
      "                 0         1         2\n",
      "Droit     0.027987  0.060669 -0.016545\n",
      "Sciences  0.160462  0.002734  0.037583\n",
      "Médecine -0.303125 -0.029662 -0.005200\n",
      "IUT       0.640174 -0.060749 -0.030870\n"
     ]
    }
   ],
   "source": [
    "#coordonnees des filiers\n",
    "print(pd.DataFrame(afc.col_coord_,index=data.columns))"
   ]
  },
  {
   "cell_type": "code",
   "execution_count": 45,
   "id": "18d56622",
   "metadata": {},
   "outputs": [
    {
     "data": {
      "image/png": "[encoded data removed]",
      "text/plain": [
       "<Figure size 1000x1000 with 1 Axes>"
      ]
     },
     "metadata": {},
     "output_type": "display_data"
    }
   ],
   "source": [
    "#affichage dans le plan factoriel \n",
    "fig, ax = plt.subplots(figsize=(10,10))\n",
    "ax.axis([-0.7,+0.7,-0.7,+0.7])\n",
    "ax.plot([-0.7,+0.7],[0,0],color='silver',linestyle='--')\n",
    "ax.plot([0,0],[-0.7,+0.7],color='silver',linestyle='--')\n",
    "ax.set_xlabel(\"Dim1\")\n",
    "ax.set_ylabel(\"Dim2\")\n",
    "plt.title(\"position des modalites colonnes dans le plan -AFC - Donnees\")\n",
    "\n",
    "\n",
    "for i in range(data.shape[1]):\n",
    "    ax.text(afc.col_coord_[i,0],afc.col_coord_[i,1],data.columns[i])\n",
    "plt.show()"
   ]
  },
  {
   "cell_type": "markdown",
   "id": "c57ee5d9",
   "metadata": {},
   "source": [
    "# Analyse de l'association liges-colonnes"
   ]
  },
  {
   "cell_type": "code",
   "execution_count": 46,
   "id": "721ea802",
   "metadata": {},
   "outputs": [
    {
     "data": {
      "text/plain": [
       "3784"
      ]
     },
     "execution_count": 46,
     "metadata": {},
     "output_type": "execute_result"
    }
   ],
   "source": [
    "#effecttifs totaux\n",
    "n = np.sum(data.values)\n",
    "n"
   ]
  },
  {
   "cell_type": "code",
   "execution_count": 47,
   "id": "11b3c9fc",
   "metadata": {},
   "outputs": [
    {
     "name": "stdout",
     "output_type": "stream",
     "text": [
      "[[ 82.12420719  76.7769556  112.6115222   30.48731501]\n",
      " [156.36231501 146.18128964 214.40935518  58.04704017]\n",
      " [496.28039112 463.9667019  680.51664905 184.23625793]\n",
      " [126.99339323 118.72463002 174.13768499  47.14429175]\n",
      " [167.23969345 156.35042283 229.32478858  62.08509514]]\n"
     ]
    }
   ],
   "source": [
    "#tableau sous independance \n",
    "E =np.dot(np.reshape(total_lignes,(5,1)),np.reshape(total_colonnes,(1,4)))/n\n",
    "print(E)"
   ]
  },
  {
   "cell_type": "code",
   "execution_count": 48,
   "id": "e6b02cc8",
   "metadata": {},
   "outputs": [
    {
     "name": "stdout",
     "output_type": "stream",
     "text": [
      "20.155630323216837\n"
     ]
    }
   ],
   "source": [
    "#statistique du KHI-2\n",
    "KHI2 =np.sum(((data.values-E)**2)/n)\n",
    "print(KHI2)"
   ]
  },
  {
   "cell_type": "code",
   "execution_count": 49,
   "id": "ef04e054",
   "metadata": {},
   "outputs": [
    {
     "name": "stdout",
     "output_type": "stream",
     "text": [
      "12\n"
     ]
    }
   ],
   "source": [
    "#degre de liberte\n",
    "ddl =(E.shape[0]-1)*(E.shape[1]-1)\n",
    "print(ddl)"
   ]
  },
  {
   "cell_type": "code",
   "execution_count": 51,
   "id": "309028d0",
   "metadata": {},
   "outputs": [],
   "source": [
    "import scipy"
   ]
  },
  {
   "cell_type": "code",
   "execution_count": 52,
   "id": "1b1c5fc8",
   "metadata": {},
   "outputs": [
    {
     "name": "stdout",
     "output_type": "stream",
     "text": [
      "0.06419864061091163\n"
     ]
    }
   ],
   "source": [
    "#p-value du test\n",
    "print(1-scipy.stats.chi2.cdf(KHI2,ddl))"
   ]
  },
  {
   "cell_type": "code",
   "execution_count": 53,
   "id": "3a29d965",
   "metadata": {},
   "outputs": [
    {
     "name": "stdout",
     "output_type": "stream",
     "text": [
      "321.96365868622877\n"
     ]
    }
   ],
   "source": [
    "#tableau des indices d'attraction et repulsion\n",
    "IAR =data.values/E\n",
    "\n",
    "#Stat de test du rapport de vraisemblance\n",
    "G =2*np.sum(data.values*np.log(IAR))\n",
    "print(G)"
   ]
  },
  {
   "cell_type": "code",
   "execution_count": 54,
   "id": "54379fcb",
   "metadata": {},
   "outputs": [
    {
     "name": "stdout",
     "output_type": "stream",
     "text": [
      "12\n"
     ]
    }
   ],
   "source": [
    "#degres de liberte (4*3)\n",
    "print(ddl)   "
   ]
  },
  {
   "cell_type": "code",
   "execution_count": 55,
   "id": "fa0b76af",
   "metadata": {},
   "outputs": [
    {
     "name": "stdout",
     "output_type": "stream",
     "text": [
      "0.0\n"
     ]
    }
   ],
   "source": [
    "#p-values de test du rapport de vraisemblance\n",
    "print(1-scipy.stats.chi2.cdf(G,ddl))"
   ]
  },
  {
   "cell_type": "code",
   "execution_count": 56,
   "id": "30c6866c",
   "metadata": {},
   "outputs": [
    {
     "data": {
      "image/png": "[encoded data removed]",
      "text/plain": [
       "<Figure size 1000x1000 with 1 Axes>"
      ]
     },
     "metadata": {},
     "output_type": "display_data"
    }
   ],
   "source": [
    "#representation simultanee \n",
    "fig, ax = plt.subplots(figsize=(10,10))\n",
    "ax.axis([-0.7,+0.7,-0.7,+0.7])\n",
    "ax.plot([-0.7,+0.7],[0,0],color='silver',linestyle='--')\n",
    "ax.plot([0,0],[-0.7,+0.7],color='silver',linestyle='--')\n",
    "ax.set_xlabel(\"Dim1\")\n",
    "ax.set_ylabel(\"Dim2\")\n",
    "plt.title(\"carte des modalites lignes et colonnes\")\n",
    "\n",
    "#modalites lignes\n",
    "for i in range(data.shape[0]):\n",
    "    ax.text(afc.row_coord_[i,0],afc.row_coord_[i,1],data.index[i],color='blue')\n",
    "\n",
    "#modalites colonnes\n",
    "for i in range(data.shape[1]):\n",
    "    ax.text(afc.col_coord_[i,0],afc.col_coord_[i,1],data.columns[i],color='green')\n",
    "\n",
    "plt.show()"
   ]
  },
  {
   "cell_type": "code",
   "execution_count": null,
   "id": "54917233",
   "metadata": {},
   "outputs": [],
   "source": []
  }
 ],
 "metadata": {
  "kernelspec": {
   "display_name": "Python 3 (ipykernel)",
   "language": "python",
   "name": "python3"
  },
  "language_info": {
   "codemirror_mode": {
    "name": "ipython",
    "version": 3
   },
   "file_extension": ".py",
   "mimetype": "text/x-python",
   "name": "python",
   "nbconvert_exporter": "python",
   "pygments_lexer": "ipython3",
   "version": "3.11.5"
  }
 },
 "nbformat": 4,
 "nbformat_minor": 5
}
